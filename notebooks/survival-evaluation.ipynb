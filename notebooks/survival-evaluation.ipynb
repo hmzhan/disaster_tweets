{
 "cells": [
  {
   "cell_type": "code",
   "execution_count": 1,
   "metadata": {},
   "outputs": [],
   "source": [
    "import sys\n",
    "sys.path.append(\"/Users/hzhan/documents/work/survival\")"
   ]
  },
  {
   "cell_type": "code",
   "execution_count": 2,
   "metadata": {},
   "outputs": [],
   "source": [
    "import numpy as np\n",
    "from src.evaluate.time_dependent_auc import *"
   ]
  },
  {
   "cell_type": "code",
   "execution_count": 3,
   "metadata": {},
   "outputs": [],
   "source": [
    "survival_data = TimeDependentAUC()"
   ]
  },
  {
   "cell_type": "code",
   "execution_count": 4,
   "metadata": {},
   "outputs": [],
   "source": [
    "num_columns = ['age', 'creatinine', 'kappa', 'lambda']\n",
    "x_test_imputed = survival_data.impute_data(num_columns)\n",
    "times = np.percentile(survival_data.y[\"futime\"], np.linspace(5, 81, 15))"
   ]
  },
  {
   "cell_type": "code",
   "execution_count": 5,
   "metadata": {},
   "outputs": [
    {
     "data": {
      "image/png": "[encoded data removed]",
      "text/plain": [
       "<Figure size 432x288 with 1 Axes>"
      ]
     },
     "metadata": {
      "needs_background": "light"
     },
     "output_type": "display_data"
    }
   ],
   "source": [
    "# We begin by considering individual real-valued features as risk scores \n",
    "# without actually fitting a survival model. Hence, we obtain an estimate \n",
    "# of how well age, creatinine, kappa FLC, and lambda FLC are able to distinguish \n",
    "# cases from controls at each time point.\n",
    "for i, col in enumerate(num_columns):\n",
    "    survival_data.plot_cumulative_dynamic_auc(x_test_imputed[:, i], col, color=\"C{}\".format(i))\n",
    "    ret = concordance_index_ipcw(survival_data.y_train, survival_data.y_test, x_test_imputed[:, i], tau=times[-1])\n"
   ]
  },
  {
   "cell_type": "markdown",
   "metadata": {},
   "source": [
    "## Time Dependent AUC"
   ]
  },
  {
   "cell_type": "code",
   "execution_count": 6,
   "metadata": {},
   "outputs": [],
   "source": [
    "Models = EvaluateModel()"
   ]
  },
  {
   "cell_type": "code",
   "execution_count": 7,
   "metadata": {},
   "outputs": [
    {
     "data": {
      "text/html": [
       "<div>\n",
       "<style scoped>\n",
       "    .dataframe tbody tr th:only-of-type {\n",
       "        vertical-align: middle;\n",
       "    }\n",
       "\n",
       "    .dataframe tbody tr th {\n",
       "        vertical-align: top;\n",
       "    }\n",
       "\n",
       "    .dataframe thead th {\n",
       "        text-align: right;\n",
       "    }\n",
       "</style>\n",
       "<table border=\"1\" class=\"dataframe\">\n",
       "  <thead>\n",
       "    <tr style=\"text-align: right;\">\n",
       "      <th></th>\n",
       "      <th>Age_in_years</th>\n",
       "      <th>Celltype</th>\n",
       "      <th>Karnofsky_score</th>\n",
       "      <th>Months_from_Diagnosis</th>\n",
       "      <th>Prior_therapy</th>\n",
       "      <th>Treatment</th>\n",
       "    </tr>\n",
       "  </thead>\n",
       "  <tbody>\n",
       "    <tr>\n",
       "      <td>66</td>\n",
       "      <td>38.0</td>\n",
       "      <td>large</td>\n",
       "      <td>80.0</td>\n",
       "      <td>5.0</td>\n",
       "      <td>no</td>\n",
       "      <td>standard</td>\n",
       "    </tr>\n",
       "    <tr>\n",
       "      <td>121</td>\n",
       "      <td>62.0</td>\n",
       "      <td>adeno</td>\n",
       "      <td>80.0</td>\n",
       "      <td>4.0</td>\n",
       "      <td>yes</td>\n",
       "      <td>test</td>\n",
       "    </tr>\n",
       "    <tr>\n",
       "      <td>107</td>\n",
       "      <td>60.0</td>\n",
       "      <td>adeno</td>\n",
       "      <td>40.0</td>\n",
       "      <td>2.0</td>\n",
       "      <td>no</td>\n",
       "      <td>test</td>\n",
       "    </tr>\n",
       "    <tr>\n",
       "      <td>57</td>\n",
       "      <td>47.0</td>\n",
       "      <td>large</td>\n",
       "      <td>70.0</td>\n",
       "      <td>2.0</td>\n",
       "      <td>no</td>\n",
       "      <td>standard</td>\n",
       "    </tr>\n",
       "    <tr>\n",
       "      <td>98</td>\n",
       "      <td>72.0</td>\n",
       "      <td>smallcell</td>\n",
       "      <td>70.0</td>\n",
       "      <td>3.0</td>\n",
       "      <td>no</td>\n",
       "      <td>test</td>\n",
       "    </tr>\n",
       "    <tr>\n",
       "      <td>...</td>\n",
       "      <td>...</td>\n",
       "      <td>...</td>\n",
       "      <td>...</td>\n",
       "      <td>...</td>\n",
       "      <td>...</td>\n",
       "      <td>...</td>\n",
       "    </tr>\n",
       "    <tr>\n",
       "      <td>126</td>\n",
       "      <td>68.0</td>\n",
       "      <td>large</td>\n",
       "      <td>70.0</td>\n",
       "      <td>15.0</td>\n",
       "      <td>yes</td>\n",
       "      <td>test</td>\n",
       "    </tr>\n",
       "    <tr>\n",
       "      <td>67</td>\n",
       "      <td>53.0</td>\n",
       "      <td>large</td>\n",
       "      <td>70.0</td>\n",
       "      <td>8.0</td>\n",
       "      <td>yes</td>\n",
       "      <td>standard</td>\n",
       "    </tr>\n",
       "    <tr>\n",
       "      <td>83</td>\n",
       "      <td>52.0</td>\n",
       "      <td>squamous</td>\n",
       "      <td>80.0</td>\n",
       "      <td>28.0</td>\n",
       "      <td>yes</td>\n",
       "      <td>test</td>\n",
       "    </tr>\n",
       "    <tr>\n",
       "      <td>5</td>\n",
       "      <td>49.0</td>\n",
       "      <td>squamous</td>\n",
       "      <td>20.0</td>\n",
       "      <td>5.0</td>\n",
       "      <td>no</td>\n",
       "      <td>standard</td>\n",
       "    </tr>\n",
       "    <tr>\n",
       "      <td>105</td>\n",
       "      <td>59.0</td>\n",
       "      <td>smallcell</td>\n",
       "      <td>30.0</td>\n",
       "      <td>87.0</td>\n",
       "      <td>yes</td>\n",
       "      <td>test</td>\n",
       "    </tr>\n",
       "  </tbody>\n",
       "</table>\n",
       "<p>109 rows × 6 columns</p>\n",
       "</div>"
      ],
      "text/plain": [
       "     Age_in_years   Celltype  Karnofsky_score  Months_from_Diagnosis  \\\n",
       "66           38.0      large             80.0                    5.0   \n",
       "121          62.0      adeno             80.0                    4.0   \n",
       "107          60.0      adeno             40.0                    2.0   \n",
       "57           47.0      large             70.0                    2.0   \n",
       "98           72.0  smallcell             70.0                    3.0   \n",
       "..            ...        ...              ...                    ...   \n",
       "126          68.0      large             70.0                   15.0   \n",
       "67           53.0      large             70.0                    8.0   \n",
       "83           52.0   squamous             80.0                   28.0   \n",
       "5            49.0   squamous             20.0                    5.0   \n",
       "105          59.0  smallcell             30.0                   87.0   \n",
       "\n",
       "    Prior_therapy Treatment  \n",
       "66             no  standard  \n",
       "121           yes      test  \n",
       "107            no      test  \n",
       "57             no  standard  \n",
       "98             no      test  \n",
       "..            ...       ...  \n",
       "126           yes      test  \n",
       "67            yes  standard  \n",
       "83            yes      test  \n",
       "5              no  standard  \n",
       "105           yes      test  \n",
       "\n",
       "[109 rows x 6 columns]"
      ]
     },
     "execution_count": 7,
     "metadata": {},
     "output_type": "execute_result"
    }
   ],
   "source": [
    "Models.va_x_train"
   ]
  },
  {
   "cell_type": "code",
   "execution_count": 8,
   "metadata": {},
   "outputs": [
    {
     "data": {
      "text/plain": [
       "array([( True, 103.), ( True,  84.), ( True,  24.), ( True, 553.),\n",
       "       ( True,  99.), ( True,  21.), ( True,  48.), ( True,  59.),\n",
       "       ( True, 278.), ( True,  18.), ( True,  15.), ( True, 242.),\n",
       "       ( True, 287.), ( True,  95.), ( True,  19.), ( True,  30.),\n",
       "       ( True,  80.), ( True, 999.), ( True,   8.), ( True, 991.),\n",
       "       ( True, 389.), ( True,  27.), ( True, 467.), (False, 231.),\n",
       "       ( True,  90.), ( True,  51.), ( True,  10.), ( True,  99.),\n",
       "       ( True,  52.), ( True,   8.), ( True, 260.), ( True,  18.),\n",
       "       ( True,  13.), ( True,  52.), ( True,  13.), ( True,   4.),\n",
       "       (False, 123.), ( True,  61.), ( True, 411.), ( True,  19.),\n",
       "       ( True,  29.), ( True,  31.), ( True,  31.), ( True, 117.),\n",
       "       ( True,   7.), ( True,  25.), ( True, 118.), ( True,  54.),\n",
       "       ( True,  25.), (False,  97.), ( True, 384.), ( True, 357.),\n",
       "       ( True, 231.), ( True, 143.), ( True,   2.), ( True,   3.),\n",
       "       ( True,  22.), ( True,   8.), ( True, 139.), ( True, 110.),\n",
       "       ( True,  20.), ( True, 151.), ( True, 140.), ( True,  25.),\n",
       "       ( True,  73.), ( True,  72.), ( True,  36.), (False,  83.),\n",
       "       ( True,  95.), ( True, 100.), ( True, 144.), ( True, 126.),\n",
       "       ( True, 378.), ( True,  56.), ( True,  53.), ( True,  12.),\n",
       "       ( True,   8.), ( True,  87.), ( True, 186.), (False, 182.),\n",
       "       ( True, 200.), ( True,  24.), ( True, 132.), ( True,  92.),\n",
       "       ( True,  18.), ( True, 105.), ( True,  30.), ( True, 177.),\n",
       "       ( True,  35.), ( True, 111.), (False, 103.), ( True,  82.),\n",
       "       ( True, 228.), ( True,  63.), ( True, 216.), (False,  25.),\n",
       "       ( True,  52.), ( True, 162.), ( True, 122.), ( True, 314.),\n",
       "       ( True,  80.), ( True, 153.), ( True, 133.), ( True,  49.),\n",
       "       ( True, 164.), ( True, 250.), ( True, 201.), ( True,  10.),\n",
       "       ( True,  51.)],\n",
       "      dtype=[('Status', '?'), ('Survival_in_days', '<f8')])"
      ]
     },
     "execution_count": 8,
     "metadata": {},
     "output_type": "execute_result"
    }
   ],
   "source": [
    "Models.va_y_train"
   ]
  },
  {
   "cell_type": "code",
   "execution_count": 9,
   "metadata": {},
   "outputs": [],
   "source": [
    "Models.cox_model()"
   ]
  },
  {
   "cell_type": "code",
   "execution_count": 10,
   "metadata": {},
   "outputs": [],
   "source": [
    "Models.rsf_model()"
   ]
  },
  {
   "cell_type": "code",
   "execution_count": 11,
   "metadata": {},
   "outputs": [
    {
     "data": {
      "image/png": "[encoded data removed]",
      "text/plain": [
       "<Figure size 432x288 with 1 Axes>"
      ]
     },
     "metadata": {
      "needs_background": "light"
     },
     "output_type": "display_data"
    }
   ],
   "source": [
    "Models.plot_model_auc()"
   ]
  },
  {
   "cell_type": "markdown",
   "metadata": {},
   "source": [
    "## Brier Score"
   ]
  },
  {
   "cell_type": "code",
   "execution_count": 12,
   "metadata": {},
   "outputs": [],
   "source": [
    "from src.evaluate.brier_score import *"
   ]
  },
  {
   "cell_type": "code",
   "execution_count": 13,
   "metadata": {},
   "outputs": [],
   "source": [
    "Models = Brier()"
   ]
  },
  {
   "cell_type": "code",
   "execution_count": 15,
   "metadata": {},
   "outputs": [],
   "source": [
    "Models.cox_model()"
   ]
  },
  {
   "cell_type": "code",
   "execution_count": 16,
   "metadata": {},
   "outputs": [],
   "source": [
    "Models.rsf_model()"
   ]
  },
  {
   "cell_type": "code",
   "execution_count": 17,
   "metadata": {},
   "outputs": [],
   "source": [
    "Models.calculate_cindex()"
   ]
  },
  {
   "cell_type": "code",
   "execution_count": 18,
   "metadata": {},
   "outputs": [],
   "source": [
    "Models.calculate_ibs()"
   ]
  },
  {
   "cell_type": "code",
   "execution_count": 20,
   "metadata": {},
   "outputs": [
    {
     "data": {
      "text/html": [
       "<div>\n",
       "<style scoped>\n",
       "    .dataframe tbody tr th:only-of-type {\n",
       "        vertical-align: middle;\n",
       "    }\n",
       "\n",
       "    .dataframe tbody tr th {\n",
       "        vertical-align: top;\n",
       "    }\n",
       "\n",
       "    .dataframe thead th {\n",
       "        text-align: right;\n",
       "    }\n",
       "</style>\n",
       "<table border=\"1\" class=\"dataframe\">\n",
       "  <thead>\n",
       "    <tr style=\"text-align: right;\">\n",
       "      <th></th>\n",
       "      <th>c-index</th>\n",
       "      <th>IBS</th>\n",
       "    </tr>\n",
       "  </thead>\n",
       "  <tbody>\n",
       "    <tr>\n",
       "      <td>RSF</td>\n",
       "      <td>0.688437</td>\n",
       "      <td>0.193610</td>\n",
       "    </tr>\n",
       "    <tr>\n",
       "      <td>CPH</td>\n",
       "      <td>0.688318</td>\n",
       "      <td>0.189498</td>\n",
       "    </tr>\n",
       "    <tr>\n",
       "      <td>Random</td>\n",
       "      <td>0.500000</td>\n",
       "      <td>0.247368</td>\n",
       "    </tr>\n",
       "  </tbody>\n",
       "</table>\n",
       "</div>"
      ],
      "text/plain": [
       "         c-index       IBS\n",
       "RSF     0.688437  0.193610\n",
       "CPH     0.688318  0.189498\n",
       "Random  0.500000  0.247368"
      ]
     },
     "execution_count": 20,
     "metadata": {},
     "output_type": "execute_result"
    }
   ],
   "source": [
    "pd.concat([Models.score_cindex, Models.score_brier], axis=1)"
   ]
  },
  {
   "cell_type": "code",
   "execution_count": null,
   "metadata": {},
   "outputs": [],
   "source": []
  }
 ],
 "metadata": {
  "kernelspec": {
   "display_name": "Python 3",
   "language": "python",
   "name": "python3"
  },
  "language_info": {
   "codemirror_mode": {
    "name": "ipython",
    "version": 3
   },
   "file_extension": ".py",
   "mimetype": "text/x-python",
   "name": "python",
   "nbconvert_exporter": "python",
   "pygments_lexer": "ipython3",
   "version": "3.7.4"
  }
 },
 "nbformat": 4,
 "nbformat_minor": 2
}
